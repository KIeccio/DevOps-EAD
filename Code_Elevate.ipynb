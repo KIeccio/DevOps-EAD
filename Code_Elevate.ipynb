{
  "cells": [
    {
      "cell_type": "markdown",
      "metadata": {
        "id": "view-in-github",
        "colab_type": "text"
      },
      "source": [
        "<a href=\"https://colab.research.google.com/github/KIeccio/DevOps-EAD/blob/main/Code_Elevate.ipynb\" target=\"_parent\"><img src=\"https://colab.research.google.com/assets/colab-badge.svg\" alt=\"Open In Colab\"/></a>"
      ]
    },
    {
      "cell_type": "code",
      "execution_count": null,
      "metadata": {
        "id": "JmcO4uWZ3OLO",
        "colab": {
          "base_uri": "https://localhost:8080/"
        },
        "outputId": "c1d44423-fb51-418e-cfe6-1a50a3740394"
      },
      "outputs": [
        {
          "output_type": "stream",
          "name": "stdout",
          "text": [
            "W: Skipping acquire of configured file 'main/source/Sources' as repository 'https://r2u.stat.illinois.edu/ubuntu jammy InRelease' does not seem to provide it (sources.list entry misspelt?)\n"
          ]
        }
      ],
      "source": [
        "# instalando as dependências\n",
        "!apt-get update -qq\n",
        "!apt-get install openjdk-8-jdk-headless -qq > /dev/null\n",
        "!wget -q https://archive.apache.org/dist/spark/spark-3.1.2/spark-3.1.2-bin-hadoop2.7.tgz\n",
        "!tar xf spark-3.1.2-bin-hadoop2.7.tgz\n",
        "!pip install -q findspark"
      ]
    },
    {
      "cell_type": "code",
      "execution_count": null,
      "metadata": {
        "id": "_4Z_1m0z3sPJ"
      },
      "outputs": [],
      "source": [
        "import os\n",
        "os.environ[\"JAVA_HOME\"] = \"/usr/lib/jvm/java-8-openjdk-amd64\"\n",
        "os.environ[\"SPARK_HOME\"] = \"/content/spark-3.1.2-bin-hadoop2.7\""
      ]
    },
    {
      "cell_type": "code",
      "execution_count": null,
      "metadata": {
        "id": "kqdft9fpGlH0"
      },
      "outputs": [],
      "source": [
        "import findspark\n",
        "findspark.init()"
      ]
    },
    {
      "cell_type": "code",
      "execution_count": null,
      "metadata": {
        "id": "yayRGdn_GlH1"
      },
      "outputs": [],
      "source": [
        "from pyspark.sql import SparkSession\n",
        "\n",
        "spark = SparkSession.builder \\\n",
        "    .master('local[*]') \\\n",
        "    .appName(\"Iniciando com Spark\") \\\n",
        "    .getOrCreate()"
      ]
    },
    {
      "cell_type": "markdown",
      "source": [
        "# **Assignment - Data Engineer.**\n",
        "\n",
        "---\n",
        "\n",
        "\n"
      ],
      "metadata": {
        "id": "thCWoF_llUTF"
      }
    },
    {
      "cell_type": "markdown",
      "source": [
        "# Diário de Bordo\n",
        "\n",
        "  A amostra de dados em anexo (info_transportes.csv), possui dados de um aplicativo de transporte privado, cujas colunas são:\n",
        "  \n",
        "  * DATA_INICIO (formato: \"mm-dd-yyyy HH\")\n",
        "  * DATA_FIM (formato: \"mm-dd-yyyy HH\")\n",
        "  * CATEGORIA\n",
        "  * LOCAL_INICIO\n",
        "  * LOCAL_FIM\n",
        "  * PROPOSITO\n",
        "  * DISTANCIA\n",
        "  \n",
        "  Uma equipe está elaborando um modelo para compreender como os clientes estão utilizando o aplicativo. Para isso, você precisa fornecer uma nova tabela “info_corridas_do_dia\", com dados agrupados pela data de início do transporte utilizando a formatação “yyyy-MM-dd”, contendo as seguintes colunas:\n",
        "  \n",
        "  Nome da coluna \tDescrição\n",
        "\n",
        "  DT_REFE: \tData de referência.\n",
        "\n",
        "  QT_CORR: \tQuantidade de corridas.\n",
        "\n",
        "  QT_CORR_NEG: \tQuantidade de corridas com a categoria “Negócio”.\n",
        "\n",
        "  QT_CORR_PESS: \tQuantidade de corridas com a categoria “Pessoal”.\n",
        "\n",
        "  VL_MAX_DIST: \tMaior distância percorrida por uma corrida.\n",
        "\n",
        "  VL_MIN_DIST: \tMenor distância percorrida por uma corrida.\n",
        "\n",
        "  VL_AVG_DIST: \tMédia das distâncias percorridas.\n",
        "\n",
        "  QT_CORR_REUNI: \tQuantidade de corridas com o propósito de \"Reunião\".\n",
        "\n",
        "  QT_CORR_NAO_REUNI: \tQuantidade de corridas com o propósito declarado e diferente de \"Reunião\".\n"
      ],
      "metadata": {
        "id": "8BoAnuv-ltQC"
      }
    },
    {
      "cell_type": "code",
      "source": [
        "import pyspark.sql.functions as F"
      ],
      "metadata": {
        "id": "ASA1_gHOXoF4"
      },
      "execution_count": null,
      "outputs": []
    },
    {
      "cell_type": "code",
      "execution_count": null,
      "metadata": {
        "id": "PizPNqbmCuSM"
      },
      "outputs": [],
      "source": [
        "spark\n",
        "spark.conf.set(\"spark.sql.legacy.timeParserPolicy\", \"LEGACY\")"
      ]
    },
    {
      "cell_type": "code",
      "source": [
        "# Lendo arquivo CSV\n",
        "info_transportes = spark.read.csv(\"/content/info_transportes.csv\", inferSchema=True, header=True, sep=\";\")"
      ],
      "metadata": {
        "id": "ZLXAGgbVStbM"
      },
      "execution_count": null,
      "outputs": []
    },
    {
      "cell_type": "code",
      "source": [
        "# Formatando o dataframe e a data para o proximo passo\n",
        "info_transportes = info_transportes.withColumn(\n",
        "    \"DATA_INICIO_FORMATADA\",\n",
        "    F.date_format(\n",
        "        F.to_timestamp(\"DATA_INICIO\", \"MM-dd-yyyy HH:mm\"),\n",
        "        \"yyyy-MM-dd\"\n",
        "        )\n",
        ").withColumn(\n",
        "    \"DATA_FIM_FORMATADA\",\n",
        "    F.date_format(\n",
        "        F.to_timestamp(\"DATA_FIM\", \"MM-dd-yyyy HH:mm\"),\n",
        "        \"yyyy-MM-dd\"\n",
        "        )\n",
        ")"
      ],
      "metadata": {
        "id": "cQoImsWUXcXp"
      },
      "execution_count": null,
      "outputs": []
    },
    {
      "cell_type": "code",
      "source": [
        "# Removendo as colunas DATA_INICIO e DATA_FIM\n",
        "info_transportes = info_transportes.drop(\"DATA_INICIO\", \"DATA_FIM\")"
      ],
      "metadata": {
        "id": "diyD0fiyYI6i"
      },
      "execution_count": null,
      "outputs": []
    },
    {
      "cell_type": "code",
      "source": [
        "display(\n",
        "    info_transportes.show()\n",
        ")"
      ],
      "metadata": {
        "colab": {
          "base_uri": "https://localhost:8080/",
          "height": 486
        },
        "id": "Npd-JX0OX3PH",
        "outputId": "cb8bd213-bd46-421b-ae9e-0483d4ae83e8"
      },
      "execution_count": null,
      "outputs": [
        {
          "output_type": "stream",
          "name": "stdout",
          "text": [
            "+---------+-----------------+---------------+---------+-----------------+---------------------+------------------+\n",
            "|CATEGORIA|     LOCAL_INICIO|      LOCAL_FIM|DISTANCIA|        PROPOSITO|DATA_INICIO_FORMATADA|DATA_FIM_FORMATADA|\n",
            "+---------+-----------------+---------------+---------+-----------------+---------------------+------------------+\n",
            "|  Negocio|      Fort Pierce|    Fort Pierce|       51|      Alimentação|           2016-01-01|        2016-01-01|\n",
            "|  Negocio|      Fort Pierce|    Fort Pierce|        5|             null|           2016-01-02|        2016-01-02|\n",
            "|  Negocio|      Fort Pierce|    Fort Pierce|       48|         Entregas|           2016-01-02|        2016-01-02|\n",
            "|  Negocio|      Fort Pierce|    Fort Pierce|       47|          Reunião|           2016-01-05|        2016-01-05|\n",
            "|  Negocio|      Fort Pierce|West Palm Beach|      637|Visita ao cliente|           2016-01-06|        2016-01-06|\n",
            "|  Negocio|  West Palm Beach|West Palm Beach|       43|      Alimentação|           2016-01-06|        2016-01-06|\n",
            "|  Negocio|  West Palm Beach|     Palm Beach|       71|          Reunião|           2016-01-06|        2016-01-06|\n",
            "|  Negocio|             Cary|           Cary|        8|          Reunião|           2016-01-07|        2016-01-07|\n",
            "|  Negocio|             Cary|    Morrisville|       83|          Reunião|           2016-01-10|        2016-01-10|\n",
            "|  Negocio|          Jamaica|       New York|      165|Visita ao cliente|           2016-01-10|        2016-01-10|\n",
            "|  Negocio|         New York|         Queens|      108|          Reunião|           2016-01-10|        2016-01-10|\n",
            "|  Negocio|         Elmhurst|       New York|       75|          Reunião|           2016-01-10|        2016-01-10|\n",
            "|  Negocio|          Midtown|    East Harlem|       62|          Reunião|           2016-01-10|        2016-01-10|\n",
            "|  Negocio|Flatiron District|        Midtown|       16|         Entregas|           2016-01-11|        2016-01-11|\n",
            "|  Negocio|          Midtown|   Midtown East|       17|      Alimentação|           2016-01-11|        2016-01-11|\n",
            "|  Negocio|     Midtown East|        Midtown|       19|      Alimentação|           2016-01-11|        2016-01-11|\n",
            "|  Negocio|          Midtown|  Hudson Square|       19|      Alimentação|           2016-01-12|        2016-01-12|\n",
            "|  Negocio|    Hudson Square|Lower Manhattan|        4|      Alimentação|           2016-01-12|        2016-01-12|\n",
            "|  Negocio|  Lower Manhattan|  Hudson Square|       18|         Entregas|           2016-01-12|        2016-01-12|\n",
            "|  Negocio|    Hudson Square| Hell's Kitchen|       24|Visita ao cliente|           2016-01-12|        2016-01-12|\n",
            "+---------+-----------------+---------------+---------+-----------------+---------------------+------------------+\n",
            "only showing top 20 rows\n",
            "\n"
          ]
        },
        {
          "output_type": "display_data",
          "data": {
            "text/plain": [
              "None"
            ]
          },
          "metadata": {}
        }
      ]
    },
    {
      "cell_type": "code",
      "source": [
        "info_transportes.printSchema()"
      ],
      "metadata": {
        "colab": {
          "base_uri": "https://localhost:8080/"
        },
        "id": "q-yWgSMNX6ti",
        "outputId": "52ad2c69-cca8-4714-e708-2ba66122c6d3"
      },
      "execution_count": null,
      "outputs": [
        {
          "output_type": "stream",
          "name": "stdout",
          "text": [
            "root\n",
            " |-- CATEGORIA: string (nullable = true)\n",
            " |-- LOCAL_INICIO: string (nullable = true)\n",
            " |-- LOCAL_FIM: string (nullable = true)\n",
            " |-- DISTANCIA: integer (nullable = true)\n",
            " |-- PROPOSITO: string (nullable = true)\n",
            " |-- DATA_INICIO_FORMATADA: string (nullable = true)\n",
            " |-- DATA_FIM_FORMATADA: string (nullable = true)\n",
            "\n"
          ]
        }
      ]
    },
    {
      "cell_type": "code",
      "source": [
        "# Renomeando as colunas com as nova formatacao\n",
        "info_transportes = info_transportes.withColumnRenamed('DATA_INICIO_FORMATADA', 'DATA_INICIO')\n",
        "info_transportes = info_transportes.withColumnRenamed('DATA_FIM_FORMATADA', 'DATA_FIM')"
      ],
      "metadata": {
        "id": "Zyi3Q4knaFz3"
      },
      "execution_count": null,
      "outputs": []
    },
    {
      "cell_type": "code",
      "source": [
        "display(\n",
        "    info_transportes.show()\n",
        ")"
      ],
      "metadata": {
        "colab": {
          "base_uri": "https://localhost:8080/",
          "height": 486
        },
        "id": "ZAXHTy-EalFG",
        "outputId": "4e063bce-058b-4680-af3a-c8dc886d3db0"
      },
      "execution_count": null,
      "outputs": [
        {
          "output_type": "stream",
          "name": "stdout",
          "text": [
            "+---------+-----------------+---------------+---------+-----------------+-----------+----------+\n",
            "|CATEGORIA|     LOCAL_INICIO|      LOCAL_FIM|DISTANCIA|        PROPOSITO|DATA_INICIO|  DATA_FIM|\n",
            "+---------+-----------------+---------------+---------+-----------------+-----------+----------+\n",
            "|  Negocio|      Fort Pierce|    Fort Pierce|       51|      Alimentação| 2016-01-01|2016-01-01|\n",
            "|  Negocio|      Fort Pierce|    Fort Pierce|        5|             null| 2016-01-02|2016-01-02|\n",
            "|  Negocio|      Fort Pierce|    Fort Pierce|       48|         Entregas| 2016-01-02|2016-01-02|\n",
            "|  Negocio|      Fort Pierce|    Fort Pierce|       47|          Reunião| 2016-01-05|2016-01-05|\n",
            "|  Negocio|      Fort Pierce|West Palm Beach|      637|Visita ao cliente| 2016-01-06|2016-01-06|\n",
            "|  Negocio|  West Palm Beach|West Palm Beach|       43|      Alimentação| 2016-01-06|2016-01-06|\n",
            "|  Negocio|  West Palm Beach|     Palm Beach|       71|          Reunião| 2016-01-06|2016-01-06|\n",
            "|  Negocio|             Cary|           Cary|        8|          Reunião| 2016-01-07|2016-01-07|\n",
            "|  Negocio|             Cary|    Morrisville|       83|          Reunião| 2016-01-10|2016-01-10|\n",
            "|  Negocio|          Jamaica|       New York|      165|Visita ao cliente| 2016-01-10|2016-01-10|\n",
            "|  Negocio|         New York|         Queens|      108|          Reunião| 2016-01-10|2016-01-10|\n",
            "|  Negocio|         Elmhurst|       New York|       75|          Reunião| 2016-01-10|2016-01-10|\n",
            "|  Negocio|          Midtown|    East Harlem|       62|          Reunião| 2016-01-10|2016-01-10|\n",
            "|  Negocio|Flatiron District|        Midtown|       16|         Entregas| 2016-01-11|2016-01-11|\n",
            "|  Negocio|          Midtown|   Midtown East|       17|      Alimentação| 2016-01-11|2016-01-11|\n",
            "|  Negocio|     Midtown East|        Midtown|       19|      Alimentação| 2016-01-11|2016-01-11|\n",
            "|  Negocio|          Midtown|  Hudson Square|       19|      Alimentação| 2016-01-12|2016-01-12|\n",
            "|  Negocio|    Hudson Square|Lower Manhattan|        4|      Alimentação| 2016-01-12|2016-01-12|\n",
            "|  Negocio|  Lower Manhattan|  Hudson Square|       18|         Entregas| 2016-01-12|2016-01-12|\n",
            "|  Negocio|    Hudson Square| Hell's Kitchen|       24|Visita ao cliente| 2016-01-12|2016-01-12|\n",
            "+---------+-----------------+---------------+---------+-----------------+-----------+----------+\n",
            "only showing top 20 rows\n",
            "\n"
          ]
        },
        {
          "output_type": "display_data",
          "data": {
            "text/plain": [
              "None"
            ]
          },
          "metadata": {}
        }
      ]
    },
    {
      "cell_type": "code",
      "source": [
        "from pyspark.sql.functions import *\n",
        "\n",
        "# Criando novo dataframe info_corridas_do_dia\n",
        "\n",
        "info_corridas_do_dia = info_transportes.groupBy(\"DATA_INICIO\").agg(\n",
        "    count(\"*\").alias(\"QT_CORR\"),\n",
        "    count(when(col(\"CATEGORIA\") == \"Negocio\", True)).alias(\"QT_CORR_NEG\"),\n",
        "    count(when(col(\"CATEGORIA\") == \"Pessoal\", True)).alias(\"QT_CORR_PESS\"),\n",
        "    max(\"DISTANCIA\").alias(\"VL_MAX_DIST\"),\n",
        "    min(\"DISTANCIA\").alias(\"VL_MIN_DIST\"),\n",
        "    round(avg(\"DISTANCIA\"), 2).alias(\"VL_AVG_DIST\"),\n",
        "    count(when(col(\"PROPOSITO\") == \"Reunião\", True)).alias(\"QT_CORR_REUNI\"),\n",
        "    count(when((col(\"PROPOSITO\") != \"Reunião\") & col(\"PROPOSITO\").isNotNull(), True)).alias(\"QT_CORR_NAO_REUNI\")\n",
        ").withColumnRenamed(\"DATA_INICIO\", \"DATA_REFE\")"
      ],
      "metadata": {
        "id": "WnFfhBM7YTI_"
      },
      "execution_count": null,
      "outputs": []
    },
    {
      "cell_type": "code",
      "source": [
        "info_corridas_do_dia.show()\n"
      ],
      "metadata": {
        "colab": {
          "base_uri": "https://localhost:8080/"
        },
        "id": "LiosNDy5d0nr",
        "outputId": "c0c6fc59-5c76-4614-cd8c-c73f948fcddf"
      },
      "execution_count": null,
      "outputs": [
        {
          "output_type": "stream",
          "name": "stdout",
          "text": [
            "+----------+-------+-----------+------------+-----------+-----------+-----------+-------------+-----------------+\n",
            "| DATA_REFE|QT_CORR|QT_CORR_NEG|QT_CORR_PESS|VL_MAX_DIST|VL_MIN_DIST|VL_AVG_DIST|QT_CORR_REUNI|QT_CORR_NAO_REUNI|\n",
            "+----------+-------+-----------+------------+-----------+-----------+-----------+-------------+-----------------+\n",
            "|2016-08-17|      8|          8|           0|        121|         14|      60.38|            0|                1|\n",
            "|2016-04-22|      4|          4|           0|        225|         10|     118.75|            4|                0|\n",
            "|2016-08-08|      5|          5|           0|         52|          4|       32.6|            0|                2|\n",
            "|2016-09-11|      2|          2|           0|         98|         86|       92.0|            0|                0|\n",
            "|2016-07-06|      5|          5|           0|         99|         31|       65.0|            1|                3|\n",
            "|2016-03-17|      7|          3|           4|        302|         17|      127.0|            1|                2|\n",
            "|2016-04-15|      3|          3|           0|        152|         14|       95.0|            1|                2|\n",
            "|2016-01-29|      6|          6|           0|        104|         46|      69.33|            3|                3|\n",
            "|2016-07-23|      6|          6|           0|        104|          3|      61.33|            2|                0|\n",
            "|2016-01-18|      2|          2|           0|         48|         47|       47.5|            0|                2|\n",
            "|2016-06-08|      8|          8|           0|        223|          5|      54.63|            0|                8|\n",
            "|2016-09-27|      4|          4|           0|       1956|         58|     546.25|            0|                0|\n",
            "|2016-01-27|      5|          5|           0|        187|         18|       79.0|            1|                4|\n",
            "|2016-07-30|      2|          2|           0|        133|         14|       73.5|            0|                0|\n",
            "|2016-05-16|      5|          5|           0|        145|         15|       90.4|            0|                0|\n",
            "|2016-08-07|      4|          4|           0|         27|         25|       26.0|            0|                2|\n",
            "|2016-09-14|      1|          1|           0|          7|          7|        7.0|            0|                0|\n",
            "|2016-07-19|      5|          4|           1|         87|          3|       48.2|            1|                3|\n",
            "|2016-04-12|      5|          5|           0|        159|         28|       83.2|            2|                3|\n",
            "|2016-07-08|      4|          4|           0|        132|          7|      85.25|            0|                0|\n",
            "+----------+-------+-----------+------------+-----------+-----------+-----------+-------------+-----------------+\n",
            "only showing top 20 rows\n",
            "\n"
          ]
        }
      ]
    },
    {
      "cell_type": "code",
      "source": [],
      "metadata": {
        "id": "mS1ccd4od8Kk"
      },
      "execution_count": null,
      "outputs": []
    }
  ],
  "metadata": {
    "colab": {
      "provenance": [],
      "include_colab_link": true
    },
    "kernelspec": {
      "display_name": "Python 3",
      "language": "python",
      "name": "python3"
    },
    "language_info": {
      "codemirror_mode": {
        "name": "ipython",
        "version": 3
      },
      "file_extension": ".py",
      "mimetype": "text/x-python",
      "name": "python",
      "nbconvert_exporter": "python",
      "pygments_lexer": "ipython3",
      "version": "3.8.8"
    },
    "varInspector": {
      "cols": {
        "lenName": 16,
        "lenType": 16,
        "lenVar": 40
      },
      "kernels_config": {
        "python": {
          "delete_cmd_postfix": "",
          "delete_cmd_prefix": "del ",
          "library": "var_list.py",
          "varRefreshCmd": "print(var_dic_list())"
        },
        "r": {
          "delete_cmd_postfix": ") ",
          "delete_cmd_prefix": "rm(",
          "library": "var_list.r",
          "varRefreshCmd": "cat(var_dic_list()) "
        }
      },
      "types_to_exclude": [
        "module",
        "function",
        "builtin_function_or_method",
        "instance",
        "_Feature"
      ],
      "window_display": false
    }
  },
  "nbformat": 4,
  "nbformat_minor": 0
}